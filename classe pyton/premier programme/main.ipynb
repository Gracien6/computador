{
 "cells": [
  {
   "cell_type": "code",
   "execution_count": null,
   "metadata": {},
   "outputs": [
    {
     "ename": "",
     "evalue": "",
     "output_type": "error",
     "traceback": [
      "\u001b[1;31mFailed to start the Kernel. \n",
      "\u001b[1;31mUnable to start Kernel 'Python 3.13.1' due to a timeout waiting for the ports to get used. \n",
      "\u001b[1;31mView Jupyter <a href='command:jupyter.viewOutput'>log</a> for further details."
     ]
    }
   ],
   "source": [
    "note = float(input('entrez une note'))\n",
    "if note < 10:\n",
    " print('insuffisant')\n",
    "elif 10 <= note  < 14 :\n",
    " print('passable')\n",
    "elif 14 <= note <18 :\n",
    " print('bien')\n",
    "elif 18 <= note < 20: \n",
    " print('excellent')\n",
    "else:\n",
    " print('nul')\n",
    "\n"
   ]
  },
  {
   "cell_type": "code",
   "execution_count": 6,
   "metadata": {},
   "outputs": [
    {
     "name": "stdout",
     "output_type": "stream",
     "text": [
      "le nombre est nul\n"
     ]
    }
   ],
   "source": [
    "numero = float(input('entrez un numero'))\n",
    "if numero > 0 :\n",
    "    print('positif')\n",
    "elif numero < 0:\n",
    "    print('negatif')\n",
    "else:\n",
    "    print('le nombre est nul')"
   ]
  }
 ],
 "metadata": {
  "kernelspec": {
   "display_name": "Python 3",
   "language": "python",
   "name": "python3"
  },
  "language_info": {
   "codemirror_mode": {
    "name": "ipython",
    "version": 3
   },
   "file_extension": ".py",
   "mimetype": "text/x-python",
   "name": "python",
   "nbconvert_exporter": "python",
   "pygments_lexer": "ipython3",
   "version": "3.13.1"
  }
 },
 "nbformat": 4,
 "nbformat_minor": 2
}
